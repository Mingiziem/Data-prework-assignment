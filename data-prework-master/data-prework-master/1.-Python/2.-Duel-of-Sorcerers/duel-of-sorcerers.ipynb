{
 "cells": [
  {
   "cell_type": "markdown",
   "metadata": {},
   "source": [
    "<img src=\"https://bit.ly/2VnXWr2\" width=\"100\" align=\"left\">"
   ]
  },
  {
   "cell_type": "markdown",
   "metadata": {},
   "source": [
    "# Duel of Sorcerers\n",
    "You are witnessing an epic battle between two powerful sorcerers: Gandalf and Saruman. Each sorcerer has 10 spells of variable power in their mind and they are going to throw them one after the other. The winner of the duel will be the one who wins more of those clashes between spells. Spells are represented as a list of 10 integers whose value equals the power of the spell.\n",
    "```\n",
    "gandalf = [10, 11, 13, 30, 22, 11, 10, 33, 22, 22]\n",
    "saruman = [23, 66, 12, 43, 12, 10, 44, 23, 12, 17]\n",
    "```\n",
    "For example:\n",
    "- The first clash is won by Saruman: 10 against 23.\n",
    "- The second clash is won by Saruman: 11 against 66.\n",
    "- ...\n",
    "\n",
    "You will create two variables, one for each sorcerer, where the sum of clashes won will be stored. Depending on which variable is greater at the end of the duel, you will show one of the following three results on the screen:\n",
    "* Gandalf wins\n",
    "* Saruman wins\n",
    "* Tie\n",
    "\n",
    "<img src=\"images/content_lightning_bolt_big.jpg\" width=\"400\">"
   ]
  },
  {
   "cell_type": "markdown",
   "metadata": {},
   "source": [
    "## Tools\n",
    "You don't necessarily need to use all the tools. Maybe you opt to use some of them or completely different ones, they are given to help you shape the exercise. Programming exercises can be solved in many different ways.\n",
    "\n",
    "1. Data structures: **lists, dictionaries**\n",
    "2. Loop: **for loop**\n",
    "3. Conditional statements: **if-elif-else**\n",
    "4. Functions: **range(), len(), print()**\n",
    "\n",
    "## Tasks\n",
    "\n",
    "#### 1. Create two variables called `gandalf` and `saruman` and assign them the spell power lists. Create a variable called `spells` to store the number of spells that the sorcerers cast. "
   ]
  },
  {
   "cell_type": "code",
   "execution_count": 33,
   "metadata": {},
   "outputs": [],
   "source": [
    "\n",
    "spells_list = []\n",
    "gandalf = [10, 11, 13, 30, 22, 11, 10, 33, 22, 22]\n",
    "saruman = [23, 66, 12, 43, 12, 10, 44, 23, 12, 17]\n"
   ]
  },
  {
   "cell_type": "markdown",
   "metadata": {},
   "source": [
    "#### 2. Create two variables called `gandalf_wins` and `saruman_wins`. Set both of them to 0. \n",
    "You will use these variables to count the number of clashes each sorcerer wins. "
   ]
  },
  {
   "cell_type": "code",
   "execution_count": 16,
   "metadata": {},
   "outputs": [],
   "source": [
    "gandalf_wins = 0\n",
    "saruman_wins = 0\n"
   ]
  },
  {
   "cell_type": "markdown",
   "metadata": {},
   "source": [
    "#### 3. Using the lists of spells of both sorcerers, update variables `gandalf_wins` and `saruman_wins` to count the number of times each sorcerer wins a clash. "
   ]
  },
  {
   "cell_type": "code",
   "execution_count": 17,
   "metadata": {},
   "outputs": [],
   "source": [
    "draws = 0\n",
    "number_round = 0\n",
    "total_spells = len(gandalf)"
   ]
  },
  {
   "cell_type": "markdown",
   "metadata": {},
   "source": [
    "#### 4. Who won the battle?\n",
    "Print `Gandalf wins`, `Saruman wins` or `Tie` depending on the result. "
   ]
  },
  {
   "cell_type": "code",
   "execution_count": 99,
   "metadata": {
    "scrolled": false
   },
   "outputs": [
    {
     "name": "stdout",
     "output_type": "stream",
     "text": [
      "Duel of sorcerers\n",
      "WINNER Saruman 1st round\n",
      "WINNER Saruman 2nd round\n",
      "WINNER - Gandalf 3rd round\n",
      "WINNER Saruman 4th round\n",
      "WINNER - Gandalf 5th round\n",
      "WINNER - Gandalf 6th round\n",
      "WINNER Saruman 7th round\n",
      "WINNER - Gandalf 8th round\n",
      "WINNER - Gandalf 9th round\n",
      "WINNER - Gandalf last round\n",
      "Final is Gandalf vs Saruman RESULT. (6, 4)\n",
      "Gandalf WIN\n"
     ]
    }
   ],
   "source": [
    "#DUEL OF SORCERERS\n",
    "#Gandalf and saruman \n",
    "\n",
    "spells_list = []\n",
    "num_of_spells = 0\n",
    "spell_round = 0\n",
    "gandalf = [10, 11, 13, 30, 22, 11, 10, 33, 22, 22]\n",
    "saruman = [23, 66, 12, 43, 12, 10, 44, 23, 12, 17]\n",
    "list_round = {\n",
    "    0: \"1st Round\",\n",
    "    1: \"2nd Round\",\n",
    "    2: \"3rd Round\",\n",
    "    3: \"4th Round\",\n",
    "    4: \"5th Round\",\n",
    "    5: \"6th Round\",\n",
    "    6: \"7th Round\",\n",
    "    7: \"8th Round\",\n",
    "    8: \"9th Round\",\n",
    "    9: \"Last Round\"\n",
    "}\n",
    "gandalf_wins = 0\n",
    "saruman_wins = 0\n",
    "draws = 0\n",
    "print(\"Duel of sorcerers\")\n",
    "Round_num = 0\n",
    "total_spells = len(gandalf)\n",
    "\n",
    "while Round_num < total_spells:\n",
    "    if gandalf[Round_num] == saruman[Round_num]:\n",
    "        draws = draws + 1\n",
    "    elif gandalf[Round_num] < saruman[Round_num]:\n",
    "        saruman_wins = saruman_wins + 1\n",
    "    else:\n",
    "        gandalf_wins = gandalf_wins + 1\n",
    "\n",
    "    Round_num += 1\n",
    "\n",
    "R_value = 0\n",
    "\n",
    "while R_value < len(saruman):\n",
    "    if gandalf[R_value] == saruman[R_value]:\n",
    "        print(\" TIE\",list_round[R_value])\n",
    "    elif gandalf[R_value] < saruman[R_value]:\n",
    "        print(\"WINNER Saruman\",list_round[R_value].lower())\n",
    "    else:\n",
    "        print(\"WINNER - Gandalf\",list_round[R_value].lower())\n",
    "    R_value = R_value + 1\n",
    "\n",
    "print(\"Final is Gandalf vs Saruman RESULT.\" , (gandalf_wins, saruman_wins))\n",
    "if saruman_wins < gandalf_wins:\n",
    "    print(\"Gandalf WIN\")\n",
    "elif saruman_wins > gandalf_wins:\n",
    "    print(\"Saruman WIN!\")\n",
    "else:\n",
    "    print(\"TIE\")\n"
   ]
  },
  {
   "cell_type": "markdown",
   "metadata": {},
   "source": [
    "## Bonus\n",
    "\n",
    "In this bonus challenge, you'll need to check the winner of the battle but this time, a sorcerer wins if he succeeds in winning 3 spell clashes in a row.\n",
    "\n",
    "Also, the spells now have a name and there is a dictionary that associates that name to a power.\n",
    "\n",
    "```\n",
    "POWER = {\n",
    "    'Fireball': 50, \n",
    "    'Lightning bolt': 40, \n",
    "    'Magic arrow': 10, \n",
    "    'Black Tentacles': 25, \n",
    "    'Contagion': 45\n",
    "}\n",
    "\n",
    "gandalf = ['Fireball', 'Lightning bolt', 'Lightning bolt', 'Magic arrow', 'Fireball', \n",
    "           'Magic arrow', 'Lightning bolt', 'Fireball', 'Fireball', 'Fireball']\n",
    "saruman = ['Contagion', 'Contagion', 'Black Tentacles', 'Fireball', 'Black Tentacles', \n",
    "           'Lightning bolt', 'Magic arrow', 'Contagion', 'Magic arrow', 'Magic arrow']\n",
    "```\n",
    "\n",
    "#### 1. Create variables `POWER`, `gandalf` and `saruman` as seen above. Create a variable called `spells` to store the number of spells that the sorcerers cast. "
   ]
  },
  {
   "cell_type": "code",
   "execution_count": null,
   "metadata": {},
   "outputs": [],
   "source": [
    "POWER={'Fireball':50,\n",
    "       'Lightning bolt':40, \n",
    "       'Magic arrow':10, \n",
    "       'Black Tetacles':25, \n",
    "       'Contagion':45\n",
    "      }\n",
    "gandalf = ['Fireball', 'Lightning bolt', 'Lightning bolt', 'Magic arrow', 'Fireball', \n",
    "           'Magic arrow', 'Lightning bolt', 'Fireball', 'Fireball', 'Fireball']\n",
    "saruman = ['Contagion', 'Contagion', 'Black Tentacles', 'Fireball', 'Black Tentacles', \n",
    "           'Lightning bolt', 'Magic arrow', 'Contagion', 'Magic arrow', 'Magic arrow']"
   ]
  },
  {
   "cell_type": "markdown",
   "metadata": {},
   "source": [
    "#### 2. Create two variables called `gandalf_wins` and `saruman_wins`. Set both of them to 0. "
   ]
  },
  {
   "cell_type": "code",
   "execution_count": null,
   "metadata": {},
   "outputs": [],
   "source": [
    "gandalf_wins=0\n",
    "saruman_wins=0"
   ]
  },
  {
   "cell_type": "markdown",
   "metadata": {},
   "source": [
    "#### 3. Create two variables called `gandalf_power` and `saruman_power` to store the list of spell powers of each sorcerer."
   ]
  },
  {
   "cell_type": "code",
   "execution_count": 54,
   "metadata": {},
   "outputs": [],
   "source": [
    "saruman_power = []\n",
    "gandalf_power = []"
   ]
  },
  {
   "cell_type": "markdown",
   "metadata": {},
   "source": [
    "#### 4. The battle starts! Using the variables you've created above, code the execution of spell clashes. Remember that a sorcerer wins if he succeeds in winning 3 spell clashes in a row. \n",
    "If a clash ends up in a tie, the counter of wins in a row is not restarted to 0. Remember to print who is the winner of the battle. "
   ]
  },
  {
   "cell_type": "code",
   "execution_count": 98,
   "metadata": {},
   "outputs": [
    {
     "name": "stdout",
     "output_type": "stream",
     "text": [
      "Game Begins\n",
      "Final result\n",
      "Gandalf wins: 6\n",
      "Saruman wins: 3\n",
      "Total Tie 1\n",
      "THE WINNER IS GANDALF\n",
      "GAME OVER\n"
     ]
    }
   ],
   "source": [
    "\n",
    "power = {\n",
    "    \"Fireball\": 50,\n",
    "    \"Lighting bolt\": 40,\n",
    "    \"Magic arrow\": 10,\n",
    "    \"Black tentacles\": 25,\n",
    "    \"Contagion\": 45\n",
    "}\n",
    "\n",
    "gandalf_spells = [\n",
    "    \"Fireball\",\n",
    "    \"Lighting bolt\",\n",
    "    \"Lighting bolt\",\n",
    "    \"Magic arrow\",\n",
    "    \"Fireball\",\n",
    "    \"Magic arrow\",\n",
    "    \"Lighting bolt\",\n",
    "    \"Fireball\",\n",
    "    \"Magic arrow\",\n",
    "    \"Fireball\"\n",
    "]\n",
    "\n",
    "saruman_spells = [\n",
    "    \"Contagion\",\n",
    "    \"Contagion\",\n",
    "    \"Black tentacles\",\n",
    "    \"Fireball\",\n",
    "    \"Black tentacles\",\n",
    "    \"Lighting bolt\",\n",
    "    \"Magic arrow\",\n",
    "    \"Contagion\",\n",
    "    \"Magic arrow\",\n",
    "    \"Magic arrow\"\n",
    "]\n",
    "print(\"Game Begins\") \n",
    "Spells_round = 0\n",
    "Total_of__clashes = len(saruman_spells)\n",
    "\n",
    "saruman_score = 0\n",
    "gandalf_score = 0\n",
    "saruman_total_score = 0\n",
    "gandalf_total_score = 0\n",
    "total_draws = 0\n",
    "\n",
    "while saruman_score < 3 and gandalf_score < 3 and Spells_round < Total_of__clashes:\n",
    "    if Spells_round < 9:\n",
    "        spell_round = \"0\" + str(Spells_round + 1)\n",
    "\n",
    "    else:\n",
    "        spell_round = str(Spells_round + 1)\n",
    "\n",
    "    if who_attacks == 0:\n",
    "        attacker = [\"Gandalf \", gandalf_spells]\n",
    "        defend = [\"Saruman \", saruman_spells]         \n",
    "        if power[attacker[1][Spells_round]] > power[defend[1][Spells_round]]:\n",
    "            gandalf_score += 1\n",
    "            gandalf_total_score += 1\n",
    "            saruman_score = 0\n",
    "        elif power[attacker[1][Spells_round]] < power[defend[1][Spells_round]]:\n",
    "            gandalf_score = 0\n",
    "            saruman_score += 1\n",
    "            saruman_total_score +=1\n",
    "        else:            \n",
    "            gandalf_score = 0\n",
    "            saruman_score = 0\n",
    "            total_draws += 1\n",
    "\n",
    "    else:\n",
    "        attacker = [\"Saruman \", saruman_spells]\n",
    "        defend = [\"Gandalf \", gandalf_spells]         \n",
    "        if power[attacker[1][Spells_round]] > power[defend[1][Spells_round]]:\n",
    "            gandalf_score = 0\n",
    "            saruman_score += 1\n",
    "            saruman_total_score += 1\n",
    "        elif power[attacker[1][Spells_round]] < power[defend[1][Spells_round]]:\n",
    "            gandalf_score += 1\n",
    "            gandalf_total_score += 1\n",
    "            saruman_score = 0\n",
    "        else:\n",
    "            print(\"TIe \")\n",
    "            gandalf_score = 0\n",
    "            saruman_score = 0\n",
    "            total_draws += 1\n",
    "    Spells_round += 1\n",
    "\n",
    "print(\"Final result\")\n",
    "print(\"Gandalf wins:\",gandalf_total_score)\n",
    "print(\"Saruman wins:\",saruman_total_score)\n",
    "print(\"Total Tie\" ,total_draws)\n",
    "\n",
    "if gandalf_total_score > saruman_total_score:\n",
    "    print(\"THE WINNER IS GANDALF\")\n",
    "elif gandalf_total_score < saruman_total_score:\n",
    "    print(\"THE WINNER IS SARUMAN\")\n",
    "else:\n",
    "    print(\"TIE\")\n",
    "\n",
    "\n",
    "print(\"GAME OVER\")\n",
    "\n",
    "\n"
   ]
  },
  {
   "cell_type": "markdown",
   "metadata": {},
   "source": [
    "#### 5. Find the average spell power of Gandalf and Saruman. "
   ]
  },
  {
   "cell_type": "code",
   "execution_count": 89,
   "metadata": {},
   "outputs": [
    {
     "name": "stdout",
     "output_type": "stream",
     "text": [
      "Saruman Average 30.5\n",
      "Average Gandalf 35.0\n"
     ]
    }
   ],
   "source": [
    "\n",
    "saruman_power = []\n",
    "gandalf_power = []\n",
    "\n",
    "\n",
    "for spell in saruman_spells:\n",
    "    name_spell = spell\n",
    "    saruman_power.append(power[name_spell])\n",
    "\n",
    "for spell in gandalf_spells:\n",
    "    name_spell = spell\n",
    "    gandalf_power.append(power[name_spell])\n",
    "\n",
    "average_saruman = sum(saruman_power)/len(saruman_spells)\n",
    "average_gandalf = sum(gandalf_power)/len(gandalf_spells)\n",
    "\n",
    "\n",
    "print(\"Saruman Average\",average_saruman)\n",
    "print(\"Average Gandalf\",average_gandalf)\n"
   ]
  },
  {
   "cell_type": "markdown",
   "metadata": {},
   "source": [
    "#### 6. Find the standard deviation of the spell power of Gandalf and Saruman. "
   ]
  },
  {
   "cell_type": "code",
   "execution_count": 100,
   "metadata": {},
   "outputs": [
    {
     "name": "stdout",
     "output_type": "stream",
     "text": [
      "Standard Deviation Saruman 15.56438241627338\n",
      "Standard Deviation Gandalf: 16.881943016134134\n"
     ]
    }
   ],
   "source": [
    "import math\n",
    "SD_saruman = 0\n",
    "SD_gandalf = 0\n",
    "\n",
    "for spells in range(len(saruman_spells)):\n",
    "\n",
    "    saruman_power[spells] = math.pow(saruman_power[spells] - average_saruman, 2)\n",
    "\n",
    "SD_saruman = math.sqrt(sum(saruman_power) / len(saruman_spells))\n",
    "\n",
    "\n",
    "for spells in range(len(gandalf_spells)):\n",
    "\n",
    "    gandalf_power[spells] = math.pow(gandalf_power[spells] - average_gandalf, 2)\n",
    "\n",
    "SD_gandalf = math.sqrt(sum(gandalf_power)/len(gandalf_spells))\n",
    "\n",
    "print(\"Standard Deviation Saruman\" ,SD_saruman)\n",
    "print(\"Standard Deviation Gandalf:\",SD_gandalf)"
   ]
  },
  {
   "cell_type": "code",
   "execution_count": null,
   "metadata": {},
   "outputs": [],
   "source": []
  },
  {
   "cell_type": "code",
   "execution_count": null,
   "metadata": {},
   "outputs": [],
   "source": []
  }
 ],
 "metadata": {
  "kernelspec": {
   "display_name": "Python 3",
   "language": "python",
   "name": "python3"
  },
  "language_info": {
   "codemirror_mode": {
    "name": "ipython",
    "version": 3
   },
   "file_extension": ".py",
   "mimetype": "text/x-python",
   "name": "python",
   "nbconvert_exporter": "python",
   "pygments_lexer": "ipython3",
   "version": "3.7.6"
  }
 },
 "nbformat": 4,
 "nbformat_minor": 2
}
