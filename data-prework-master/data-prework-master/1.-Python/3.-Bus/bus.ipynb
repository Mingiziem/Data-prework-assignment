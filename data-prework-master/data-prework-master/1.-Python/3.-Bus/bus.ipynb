{
 "cells": [
  {
   "cell_type": "markdown",
   "metadata": {},
   "source": [
    "<img src=\"https://bit.ly/2VnXWr2\" width=\"100\" align=\"left\">"
   ]
  },
  {
   "cell_type": "markdown",
   "metadata": {},
   "source": [
    "# Bus\n",
    "\n",
    "This bus has a passenger entry and exit control system to monitor the number of occupants it carries and thus detect when there are too many.\n",
    "\n",
    "At each stop, the entry and exit of passengers is represented by a tuple consisting of two integer numbers.\n",
    "```\n",
    "bus_stop = (in, out)\n",
    "```\n",
    "The succession of stops is represented by a list of these tuples.\n",
    "```\n",
    "stops = [(in1, out1), (in2, out2), (in3, out3), (in4, out4)]\n",
    "```\n",
    "\n",
    "## Tools\n",
    "You don't necessarily need to use all the tools. Maybe you opt to use some of them or completely different ones, they are given to help you shape the exercise. Programming exercises can be solved in many different ways.\n",
    "* Data structures: **lists, tuples**\n",
    "* Loop: **while/for loops**\n",
    "* Functions: **min, max, len**\n",
    "\n",
    "## Tasks"
   ]
  },
  {
   "cell_type": "code",
   "execution_count": 16,
   "metadata": {},
   "outputs": [],
   "source": [
    "# Variables\n",
    "stops = [(10, 0), (4, 1), (3, 5), (3, 4), (5, 1), (1, 5), (5, 8), (4, 6), (2, 3)]\n"
   ]
  },
  {
   "cell_type": "markdown",
   "metadata": {},
   "source": [
    "#### 1. Calculate the number of stops."
   ]
  },
  {
   "cell_type": "code",
   "execution_count": 37,
   "metadata": {},
   "outputs": [
    {
     "name": "stdout",
     "output_type": "stream",
     "text": [
      "The number of stops 9\n",
      "The occupation of the bus [10, 13, 11, 10, 14, 10, 7, 5]\n"
     ]
    }
   ],
   "source": [
    "stops = [(10, 0), (4, 1), (3, 5), (3, 4), (5, 1), (1, 5), (5, 8), (4, 6), (2, 3)]\n",
    "num_stops = 0\n",
    "num_travels = num_stops - 1\n",
    "number_passengers = []\n",
    "avg_of_passenger = 0\n",
    "SD_passengers = 0\n",
    "\n",
    "num_stops = len(stops)\n",
    "list_max_occup = []\n",
    "\n",
    "for value in range(len(stops)-1):\n",
    "    a = sum(i[0] for i in stops[:(value + 1)])\n",
    "    b = sum(i[1] for i in stops[:(value + 1)])\n",
    "    list_max_occup.append(a-b)\n",
    "\n",
    "\n",
    "print(\"The number of stops\", num_stops)\n",
    "print(\"The occupation of the bus\",list_max_occup)\n",
    "\n",
    "max_occup = max(list_max_occup)\n",
    "avg_occup = sum(list_max_occup) / (len(stops) - 1)\n"
   ]
  },
  {
   "cell_type": "markdown",
   "metadata": {},
   "source": [
    "#### 2. Assign to a variable a list whose elements are the number of passengers at each stop (in-out).\n",
    "Each item depends on the previous item in the list + in - out."
   ]
  },
  {
   "cell_type": "code",
   "execution_count": 34,
   "metadata": {},
   "outputs": [
    {
     "name": "stdout",
     "output_type": "stream",
     "text": [
      "Number of stops 9\n",
      "Bus occupation Maximum [10, 13, 11, 10, 14, 10, 7, 5]\n"
     ]
    }
   ],
   "source": [
    "print(\"Number of stops\", number_of_stops)\n",
    "print(\"Bus occupation Maximum\",list_max_occup)\n"
   ]
  },
  {
   "cell_type": "markdown",
   "metadata": {},
   "source": [
    "#### 3. Find the maximum occupation of the bus."
   ]
  },
  {
   "cell_type": "code",
   "execution_count": 38,
   "metadata": {},
   "outputs": [
    {
     "name": "stdout",
     "output_type": "stream",
     "text": [
      "The maximum occupation: 14\n"
     ]
    }
   ],
   "source": [
    "print(\"The maximum occupation:\",max_occup)"
   ]
  },
  {
   "cell_type": "markdown",
   "metadata": {},
   "source": [
    "#### 4. Calculate the average occupation. And the standard deviation."
   ]
  },
  {
   "cell_type": "code",
   "execution_count": 40,
   "metadata": {},
   "outputs": [
    {
     "name": "stdout",
     "output_type": "stream",
     "text": [
      "The average occupation: 10.0\n",
      "The standard variation: 2.7386127875258306\n"
     ]
    }
   ],
   "source": [
    "import math\n",
    "bus_stops = []\n",
    "countin= 0\n",
    "while countin < len(list_max_occup):\n",
    "    bus_stops.append(math.pow((list_max_occup[countin] - avg_occup), 2))\n",
    "    countin += 1\n",
    "std_deviation = math.sqrt(sum(bus_stops)/len(list_max_occup))\n",
    "print(\"The average occupation:\",avg_occup)\n",
    "print(\"The standard variation:\",std_deviation)\n"
   ]
  },
  {
   "cell_type": "code",
   "execution_count": null,
   "metadata": {},
   "outputs": [],
   "source": []
  },
  {
   "cell_type": "code",
   "execution_count": null,
   "metadata": {},
   "outputs": [],
   "source": []
  }
 ],
 "metadata": {
  "kernelspec": {
   "display_name": "Python 3",
   "language": "python",
   "name": "python3"
  },
  "language_info": {
   "codemirror_mode": {
    "name": "ipython",
    "version": 3
   },
   "file_extension": ".py",
   "mimetype": "text/x-python",
   "name": "python",
   "nbconvert_exporter": "python",
   "pygments_lexer": "ipython3",
   "version": "3.7.6"
  }
 },
 "nbformat": 4,
 "nbformat_minor": 2
}
