{
 "cells": [
  {
   "cell_type": "markdown",
   "metadata": {},
   "source": [
    "<img src=\"https://bit.ly/2VnXWr2\" width=\"100\" align=\"left\"/>"
   ]
  },
  {
   "cell_type": "markdown",
   "metadata": {},
   "source": [
    "# Robin Hood\n",
    "Robin Hood has entered a competition to win the archery contest in Sherwood. With his bow and arrows, he needs to shoot on a target and try to hit as close as possible to the center.\n",
    "\n",
    "![](images/arrows.jpg)\n",
    "\n",
    "## Context\n",
    "In this challenge, the landing position of arrows shot by archers in the competition will be represented using 2-dimensional coordinates. \n",
    "\n",
    "In the 2-dimensional space, a point can be defined by a pair of values that correspond to the horizontal coordinate (x) and the vertical coordinate (y). For example, in our case, an arrow that hits the center of the archery target will land in position (0, 0) on the coordinate axes. \n",
    "\n",
    "The space can be divided into 4 zones (quadrants): Q1, Q2, Q3, Q4. If a point is in Q1, both its x coordinate and y coordinate are positive. Any point with a null x or y coordinate is considered to not belong to any quadrant. \n",
    "\n",
    "If you want to know more about the cartesian coordinate system, you can check this [link](https://en.wikipedia.org/wiki/Cartesian_coordinate_system). \n",
    "\n",
    "## Tools\n",
    "You don't necessarily need to use all the tools. Maybe you opt to use some of them or completely different ones, they are given to help you shape the exercise. Programming exercises can be solved in many different ways.\n",
    "* Data structures: **lists, sets, tuples**\n",
    "* Conditional statements: **if-elif-else**\n",
    "* Loop: **while/for**\n",
    "* Minimum (optional sorting)\n",
    "\n",
    "## Tasks\n",
    "Robin Hood has hit the following points:"
   ]
  },
  {
   "cell_type": "code",
   "execution_count": null,
   "metadata": {},
   "outputs": [],
   "source": [
    "points = [(4, 5), (-0, 2), (4, 7), (1, -3), (3, -2), (4, 5), (3, 2), (5, 7), (-5, 7), (2, 2), (-4, 5), (0, -2),\n",
    "          (-4, 7), (-1, 3), (-3, 2), (-4, -5), (-3, 2), (5, 7), (5, 7), (2, 2), (9, 9), (-8, -9)]"
   ]
  },
  {
   "cell_type": "markdown",
   "metadata": {},
   "source": [
    "#### 1. Robin Hood is famous for hitting an arrow with another arrow. Find the coordinates of the points where an arrow hits another arrow."
   ]
  },
  {
   "cell_type": "code",
   "execution_count": 12,
   "metadata": {},
   "outputs": [
    {
     "name": "stdout",
     "output_type": "stream",
     "text": [
      "HIT 5\n",
      "Arrow Distribution :\n",
      "Arrows in the Q1 10\n",
      "Arrows in the Q2 6\n",
      "Arrows in the Q3 2\n",
      "Arrows in the Q4 2\n",
      "Arrows in the X coordinator 2\n",
      "Arrows in the Y coordinator 0\n"
     ]
    }
   ],
   "source": [
    "points = [(4, 5), (-0, 2), (4, 7), (1, -3), (3, -2), (4, 5),\n",
    "          (3, 2), (5, 7), (-5, 7), (2, 2), (-4, 5), (0, -2),\n",
    "          (-4, 7), (-1, 3), (-3, 2), (-4, -5), (-3, 2),\n",
    "          (5, 7), (5, 7), (2, 2), (9, 9), (-8, -9)]\n",
    "arrow_hits = 0\n",
    "\n",
    "points_set = set()\n",
    "diferent_values = 0\n",
    " \n",
    "for i in points:\n",
    "    points_set.update({i})\n",
    "\n",
    "repeats = []\n",
    "pos = 0\n",
    "for i in points_set:\n",
    "    var = points.count(i)\n",
    "    repeats.append(var)\n",
    "\n",
    "points_set = list(points_set)\n",
    "\n",
    "arrow_hits = len(points)-len(points_set)\n",
    "\n",
    "Q1 = 0\n",
    "Q2 = 0\n",
    "Q3 = 0\n",
    "Q4 = 0\n",
    "X_coordinator = 0\n",
    "Y_coordinator = 0\n",
    "\n",
    "for i in points:\n",
    "    if i[0] > 0 and i[1] > 0:\n",
    "        Q1 = Q1 +1\n",
    "    elif i[0] < 0 and i[1] > 0:\n",
    "        Q2 = Q2 +1\n",
    "    elif i[0] < 0 and i[1] < 0:\n",
    "        Q3 = Q3 +1\n",
    "    elif i[0] > 0 and i[1] < 0:\n",
    "        Q4 = Q4 +1\n",
    "    elif i[0] == 0:\n",
    "        X_coordinator += 1\n",
    "    else:\n",
    "        Y_coordinator += 1\n",
    "\n",
    "print(\"HIT\",arrow_hits)\n",
    "\n",
    "\n",
    "print(\"Arrow Distribution :\")\n",
    "print(\"Arrows in the Q1\",Q1)\n",
    "print(\"Arrows in the Q2\",Q2)\n",
    "print(\"Arrows in the Q3\" , Q3)\n",
    "print(\"Arrows in the Q4\" ,Q4)\n",
    "print(\"Arrows in the X coordinator\" ,X_axis)\n",
    "print(\"Arrows in the Y coordinator\" ,Y_axis)\n"
   ]
  },
  {
   "cell_type": "markdown",
   "metadata": {},
   "source": [
    "#### 2. Calculate how many arrows have fallen in each quadrant. \n",
    "**Note**: the arrows that fall in the axis (x=0 or y=0) don't belong to any quadrant."
   ]
  },
  {
   "cell_type": "code",
   "execution_count": 13,
   "metadata": {},
   "outputs": [
    {
     "name": "stdout",
     "output_type": "stream",
     "text": [
      "The minimum distance: 2.0\n"
     ]
    }
   ],
   "source": [
    "\n",
    "distances = []\n",
    "\n",
    "i = 0\n",
    "import math\n",
    "while i < len(points):\n",
    "\n",
    "    a = math.sqrt(math.pow(points[i][0],2) + math.pow(points[i][1],2))\n",
    "    distances.append(a)\n",
    "    i += 1\n",
    "\n",
    "\n",
    "get_min_distance = min(distances)\n",
    "count_min = 0\n",
    "count_max = 0\n",
    "store_min_pos = []\n",
    "count_position = 0\n",
    "\n",
    "for i in distances:\n",
    "\n",
    "    if get_min_distance == i:\n",
    "        store_min_pos.append(count_position)\n",
    "        count_min += 1\n",
    "    elif i > 9:\n",
    "        count_max += 1\n",
    "    count_position += 1\n",
    "\n",
    "arrow = []\n",
    "\n",
    "print(\"The minimum distance:\",min(distances))\n"
   ]
  },
  {
   "cell_type": "markdown",
   "metadata": {},
   "source": [
    "#### 3. Find the point closest to the center. Calculate its distance to the center. \n",
    "Take into account that there might be more than one point at the minimum distance to the center.\n",
    "\n",
    "**Hint**: Use the Euclidean distance. You can find more information about it [here](https://en.wikipedia.org/wiki/Euclidean_distance).  \n",
    "**Hint**: Defining a function that calculates the distance to the center can help."
   ]
  },
  {
   "cell_type": "code",
   "execution_count": 11,
   "metadata": {},
   "outputs": [
    {
     "name": "stdout",
     "output_type": "stream",
     "text": [
      "Values close to the center ['(0, 2)', '(0, -2)', '(0, 2)', '(0, -2)', '(0, 2)', '(0, -2)']\n",
      "Aarrows on the ground 2\n"
     ]
    }
   ],
   "source": [
    "for i in store_min_pos:\n",
    "        arrow.append(str(points[i]))\n",
    "if count_min == 1:\n",
    "    print(\"Values close to the center.\",arrow)\n",
    "else:\n",
    "    print(\"Values close to the center\",arrow)\n",
    "if count_max > 1:\n",
    "    print(\"Aarrows on the ground\" ,count_max)\n",
    "elif count_max == 0:\n",
    "    print(\"No arrows on the ground\")\n",
    "else:\n",
    "    print(\"One arrow on the ground\")\n"
   ]
  },
  {
   "cell_type": "markdown",
   "metadata": {},
   "source": [
    "#### 4. If the archery target has a radius of 9, calculate the number of arrows that won't hit the target. \n",
    "**Hint**: Use the function created in step 3. "
   ]
  },
  {
   "cell_type": "code",
   "execution_count": null,
   "metadata": {},
   "outputs": [],
   "source": []
  },
  {
   "cell_type": "code",
   "execution_count": null,
   "metadata": {},
   "outputs": [],
   "source": []
  }
 ],
 "metadata": {
  "kernelspec": {
   "display_name": "Python 3",
   "language": "python",
   "name": "python3"
  },
  "language_info": {
   "codemirror_mode": {
    "name": "ipython",
    "version": 3
   },
   "file_extension": ".py",
   "mimetype": "text/x-python",
   "name": "python",
   "nbconvert_exporter": "python",
   "pygments_lexer": "ipython3",
   "version": "3.7.6"
  }
 },
 "nbformat": 4,
 "nbformat_minor": 2
}
