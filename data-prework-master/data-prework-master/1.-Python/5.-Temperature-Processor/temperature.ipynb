{
 "cells": [
  {
   "cell_type": "markdown",
   "metadata": {},
   "source": [
    "<img src=\"https://bit.ly/2VnXWr2\" width=\"100\" align=\"left\">"
   ]
  },
  {
   "cell_type": "markdown",
   "metadata": {},
   "source": [
    "# Temperature Sensor\n",
    "\n",
    "There is a temperature sensor in the processor of your company's server. The company wants to analyze the data provided by the sensor to decide if they should change the cooling system for a better one. As changing the cooling system is expensive and you are an excellent data analyst, you can't make a decision without basis.\n",
    "\n",
    "## Tools\n",
    "You don't necessarily need to use all the tools. Maybe you opt to use some of them or completely different ones, they are given to help you shape the exercise. Programming exercises can be solved in many different ways.\n",
    "1. Data structures: **lists**\n",
    "2. Loops: **list comprehension**\n",
    "3. Functions: **min, max, print, len**\n",
    "4. Conditional statements: **if-elif-else**\n",
    "\n",
    "## Tasks\n",
    "The temperatures measured throughout the 24 hours of a day are:"
   ]
  },
  {
   "cell_type": "code",
   "execution_count": 66,
   "metadata": {},
   "outputs": [],
   "source": [
    "temperatures_C = [33, 66, 65, 0, 59, 60, 62, 64, 70, 76, 80, 81, 80, 83, 90, 79, 61, 53, 50, 49, 53, 48, 45, 39]"
   ]
  },
  {
   "cell_type": "markdown",
   "metadata": {},
   "source": [
    "The first element of the list is the temperature at 12am, the second element is the temperature at 1am, and so on. \n",
    "\n",
    "The company has decided that if one of the following events occurs, then the cooling system needs to be replaced for a new one to avoid damaging the processor.\n",
    "* More than 4 temperatures are greater than or equal to 70ºC.\n",
    "* Any temperature is above 80ºC.\n",
    "* The average temperature exceeds 65ºC.\n",
    "\n",
    "Follow the steps so that you can make the decision.\n",
    "\n",
    "#### 1. Find the minimum temperature of the day and store it in a variable."
   ]
  },
  {
   "cell_type": "code",
   "execution_count": 67,
   "metadata": {},
   "outputs": [
    {
     "name": "stdout",
     "output_type": "stream",
     "text": [
      "Sorted Temperature [0, 33, 39, 45, 48, 49, 50, 53, 53, 59, 60, 61, 62, 64, 65, 66, 70, 76, 79, 80, 80, 81, 83, 90]\n",
      "Median 49.5\n",
      "Median 77.5\n",
      "interquartile_range 28.0\n",
      "High outlider 119.5\n",
      "Low outlider 7.5\n",
      "[33, 66, 65, 59, 60, 62, 64, 70, 76, 80, 81, 80, 83, 90, 79, 61, 53, 50, 49, 53, 48, 45, 39]\n",
      "Minimum Temperature: 33\n",
      "Maximum Temperature: 90\n",
      "Temperature >=70: [70, 76, 80, 81, 80, 83, 90, 79]\n",
      "Temperatures corrected is:\n",
      "[33, 66, 65, 62, 60, 62, 64, 70, 76, 80, 81, 80]\n",
      "[83, 90, 79, 61, 53, 50, 49, 53, 48, 45, 39]\n",
      "Temperatures in Fahrenheit:\n",
      "\n",
      "[91.4, 150.8, 149.0, 143.6, 140.0, 143.6, 147.2, 158.0, 168.8, 176.0, 177.8, 176.0]\n",
      "[181.4, 194.0, 174.2, 141.8, 127.4, 122.0, 120.2, 127.4, 118.4, 113.0, 102.2]\n",
      "List of new temperature length [0, 1, 2, 3, 4, 5, 6, 7, 8, 9, 10, 11, 12, 13, 14, 15, 16, 17, 18, 19, 20, 21, 22]\n",
      "Temperature corrected [33, 66, 65, 62, 60, 62, 64, 70, 76, 80, 81, 80, 83, 90, 79, 61, 53, 50, 49, 53, 48, 45, 39]\n",
      "Avarage: 63.0\n"
     ]
    }
   ],
   "source": [
    "temperature_c = [33,66,65,0,59,60,62,64,70,76,80,81,80,83,90,79,61,53,50,49,53,48,45,39]\n",
    "x = list(range(len(temperature_c)))\n",
    "count_total_values = len(temperature_c)\n",
    "remainder = count_total_values % 2\n",
    "sort_temperatures = sorted(temperature_c)\n",
    "print(\"Sorted Temperature\",sort_temperatures)\n",
    "\n",
    "if remainder == 0:\n",
    "    middle_temp = int(count_total_values / 2)\n",
    "    median = (sort_temperatures[middle_temp-1] + (sort_temperatures[middle_temp]))/2\n",
    "    T1 = sort_temperatures[:middle_temp]\n",
    "    T2= sort_temperatures[middle_temp:]\n",
    "    count_T1 = len(T1)\n",
    "    remainder_T1 = count_T1 % 2\n",
    "    if remainder_T1 == 0:\n",
    "        middle_T1 = int(count_T1 / 2)\n",
    "        median_T1 = (T1[middle_T1-1] + (T1[middle_T1]))/2\n",
    "        median_T2 = (T2[middle_T1-1] + (T2[middle_T1]))/2\n",
    "    else:\n",
    "        median_T1 = T1[int(math.floor(len(T1)/2))]\n",
    "        median_T2 = T2[int(math.floor(len(T1)/2))]\n",
    "\n",
    "else:\n",
    "    middle_array = int((count_total_values + 1) / 2)\n",
    "    median = sort_temperatures[middle_array-1]\n",
    "    T1 = sort_temperatures[:middle_array-1]\n",
    "    T2 = sort_temperatures[middle_array:]\n",
    "    count_T1 = len(T1)\n",
    "    remainder_T1 = count_T1 % 2\n",
    "    if remainder_T1 == 0:\n",
    "        middle_T1 = int(count_T1 / 2)\n",
    "        median_T1 = (T1[middle_T1-1] + (T1[middle_T1]))/2\n",
    "        median_T2 = (T2[middle_T1-1] + (T2[middle_T1]))/2\n",
    "    else:\n",
    "        median_T1 = T1[int(math.floor(len(T1)/2))]\n",
    "        median_T2 = T2[int(math.floor(len(T1)/2))]\n",
    "\n",
    "print(\"Median\",median_T1)\n",
    "print(\"Median\",median_T2)\n",
    "IQR_interquartile_range = (median_T2 - median_T1)\n",
    "print(\"interquartile_range\",IQR_interquartile_range)\n",
    "high_outlider = median_T2 + (1.5 * IQR_interquartile_range)\n",
    "low_outlider = median_T1 - (1.5 * IQR_interquartile_range)\n",
    "print(\"High outlider\",high_outlider)\n",
    "print(\"Low outlider\",low_outlider)\n",
    "positions_with_outliders = []\n",
    "value = 0\n",
    "\n",
    "for i in temperature_c:\n",
    "    if i < low_outlider or i > high_outlider:\n",
    "        positions_with_outliders.append(value)\n",
    "    value += 1\n",
    "\n",
    "\n",
    "temp_list = temperature_c\n",
    "\n",
    "count = 0\n",
    "for numero in positions_with_outliders:\n",
    "    del temp_list[numero-count]\n",
    "    count += 1\n",
    "\n",
    "print(temp_list)\n",
    "\n",
    "\n",
    "print(\"Minimum Temperature:\" ,min(temp_list))\n",
    "print(\"Maximum Temperature:\" ,max(temp_list))\n",
    "temperatures_70 = []\n",
    "for i in temp_list:\n",
    "    if i >= 70:\n",
    "        temperatures_70.append(i)\n",
    "\n",
    "print(\"Temperature >=70:\", temperatures_70)\n",
    "\n",
    "average_24h = sum(temp_list) / len(temp_list)\n",
    "\n",
    "list_temp_corrected = list(temperature_c)\n",
    "\n",
    "\n",
    "for i in positions_with_outliders:\n",
    "\n",
    "    if i == 0:\n",
    "        val_num_before = temperature_c[len(temperature_c)-1]\n",
    "        val_num_after = temperature_c[i+1]\n",
    "        val_to_replace = int((val_num_before + val_num_after) / 2)\n",
    "        list_temp_corrected[i] = val_to_replace\n",
    "    elif i == len(temperature_c)-1:\n",
    "        val_num_before = temperature_c[i-1]\n",
    "        print(val_num_before)\n",
    "        val_num_after = temperature_c[0]\n",
    "        print(val_num_after)\n",
    "        val_to_replace = int((val_num_before + val_num_after) / 2)\n",
    "        list_temp_corrected[i] = val_to_replace\n",
    "    else:\n",
    "        val = temperature_c[i]\n",
    "        val_num_before = temperature_c[i-1]\n",
    "        val_num_after = temperature_c[i+1]\n",
    "        val_to_replace = int((val_num_before + val_num_after) / 2)\n",
    "        list_temp_corrected[i] = val_to_replace\n",
    "\n",
    "print(\"Temperatures corrected is:\")\n",
    "print(list_temp_corrected[:12])\n",
    "print(list_temp_corrected[12:])\n",
    "\n",
    "list_Fahrenheit = [round((i * 1.8)+32,1) for i in list_temp_corrected]\n",
    "\n",
    "print(\"Temperatures in Fahrenheit:\\n\")\n",
    "print(list_Fahrenheit[:12])\n",
    "print(list_Fahrenheit[12:])\n",
    "\n",
    "# axis x, axis y\n",
    "temperature_c = list_Fahrenheit\n",
    "x = list(range(len(temperature_c)))\n",
    "print(\"List of new temperature length\",x)\n",
    "\n",
    "temperature_c = list_temp_corrected\n",
    "print(\"Temperature corrected\",temperature_c)\n",
    "x=list(range(len(temperature_c)))\n",
    "h= 0\n",
    "clock = 0\n",
    "list_hours = []\n",
    "last_print = 0\n",
    "consecutive_hours = 4\n",
    "\n",
    "average_24h_corrected = sum(list_temp_corrected) / len(list_temp_corrected)\n",
    "print(\"Avarage:\",average_24h_corrected)\n"
   ]
  },
  {
   "cell_type": "markdown",
   "metadata": {},
   "source": [
    "#### 2. Find the maximum temperature of the day and store it in a variable."
   ]
  },
  {
   "cell_type": "code",
   "execution_count": 68,
   "metadata": {},
   "outputs": [
    {
     "name": "stdout",
     "output_type": "stream",
     "text": [
      "And the maxiumum: 90\n"
     ]
    }
   ],
   "source": [
    "print(\"And the maxiumum:\" , max(temp_list))\n"
   ]
  },
  {
   "cell_type": "markdown",
   "metadata": {},
   "source": [
    "#### 3. Create a list with the temperatures that are greater than or equal to 70ºC. Store it in a variable."
   ]
  },
  {
   "cell_type": "code",
   "execution_count": 69,
   "metadata": {},
   "outputs": [
    {
     "name": "stdout",
     "output_type": "stream",
     "text": [
      " Temperatures >=70: [70, 76, 80, 81, 80, 83, 90, 79]\n"
     ]
    }
   ],
   "source": [
    "temp_70 = []\n",
    "for i in temp_list:\n",
    "    if i >= 70:\n",
    "        temp_70.append(i)\n",
    "\n",
    "print(\" Temperatures >=70:\", temp_70)\n"
   ]
  },
  {
   "cell_type": "markdown",
   "metadata": {},
   "source": [
    "#### 4. Find the average temperature of the day and store it in a variable."
   ]
  },
  {
   "cell_type": "code",
   "execution_count": 70,
   "metadata": {},
   "outputs": [
    {
     "name": "stdout",
     "output_type": "stream",
     "text": [
      "Avarage temperature: 63.0\n"
     ]
    }
   ],
   "source": [
    "average_24h = sum(temp_list) / len(temp_list)\n",
    "\n",
    "list_temp_corrected = list(temperature_c)\n",
    "average_24h_corrected = sum(list_temp_corrected) / len(list_temp_corrected)\n",
    "print(\"Avarage temperature:\",average_24h_corrected)\n"
   ]
  },
  {
   "cell_type": "markdown",
   "metadata": {},
   "source": [
    "#### 5. Imagine that there was a sensor failure at 3am and the data for that specific hour was not recorded. How would you estimate the missing value? Replace the current value of the list at 3am for an estimation. "
   ]
  },
  {
   "cell_type": "code",
   "execution_count": null,
   "metadata": {},
   "outputs": [],
   "source": []
  },
  {
   "cell_type": "markdown",
   "metadata": {},
   "source": [
    "#### 6. Bonus: the maintenance staff is from the United States and does not understand the international metric system. Help them by converting the temperatures from Celsius to Fahrenheit.\n",
    "To know more about temperature conversion check this [link](https://en.wikipedia.org/wiki/Conversion_of_units_of_temperature).\n",
    "\n",
    "**Formula**: \n",
    "\n",
    "$F = 1.8 * C + 32$"
   ]
  },
  {
   "cell_type": "code",
   "execution_count": 71,
   "metadata": {},
   "outputs": [
    {
     "name": "stdout",
     "output_type": "stream",
     "text": [
      "Temperatures Fahrenheit:\n",
      "[91.4, 150.8, 149.0, 143.6, 140.0, 143.6, 147.2, 158.0, 168.8, 176.0, 177.8, 176.0]\n",
      "[181.4, 194.0, 174.2, 141.8, 127.4, 122.0, 120.2, 127.4, 118.4, 113.0, 102.2]\n"
     ]
    }
   ],
   "source": [
    "list_Fahrenheit = [round((i * 1.8)+32,1) for i in list_temp_corrected]\n",
    "\n",
    "print(\"Temperatures Fahrenheit:\")\n",
    "print(list_Fahrenheit[:12])\n",
    "print(list_Fahrenheit[12:])\n"
   ]
  },
  {
   "cell_type": "markdown",
   "metadata": {},
   "source": [
    "#### 7. Make a decision!\n",
    "Now it's time to make a decision taking into account what you have seen until now. \n",
    "\n",
    "Remember that if one of the following events occurs, then the cooling system needs to be replaced for a new one to avoid damaging the processor.\n",
    "* More than 4 temperatures are greater than or equal to 70ºC.\n",
    "* Any temperature is above 80ºC.\n",
    "* The average temperature exceeds 65ºC.\n",
    "\n",
    "#### To make your decision, check if any of the three conditions above is met. You might need to use some of the variables you created in steps 1 to 6. Print a message to show if the cooling system needs to be changed or not."
   ]
  },
  {
   "cell_type": "code",
   "execution_count": null,
   "metadata": {},
   "outputs": [],
   "source": []
  },
  {
   "cell_type": "markdown",
   "metadata": {},
   "source": [
    "## Bonus\n",
    "\n",
    "The company has decided that the decision you made is not valid. They want you to analyze the data again but this time, the conditions that need to be met in order to change the cooling system are different.\n",
    "\n",
    "This time, if one of the following events occurs, then the cooling system needs to be replaced:\n",
    "* The temperature is greater than 70ºC during more than 4 consecutive hours.\n",
    "* Any temperature is above 80ºC.\n",
    "* The average temperature exceeds 65ºC.\n",
    "\n",
    "Follow the steps so that you can make the decision.\n",
    "\n",
    "#### 1. Create a list with the hours where the temperature is greater than 70ºC. Store it in a variable."
   ]
  },
  {
   "cell_type": "code",
   "execution_count": null,
   "metadata": {},
   "outputs": [],
   "source": [
    "\n",
    "hours=0\n",
    "for i in list_temp_corrected:\n",
    "\n",
    "    if hours >= 4 or i >80 or average_24h > 65:\n",
    "        if hours >= 4:\n",
    "            if last_print != 1:  \n",
    "                \n",
    "                print(\"More than 4h overheating\")                \n",
    "            last_print = 1\n",
    "            consecutive_hours = consecutive_hours + 1\n",
    "        if i > 80:            \n",
    "        \n",
    "            print(\" Temperature >=80ºC  \")\n",
    "            \n",
    "        if average_24h > 65:\n",
    "            \n",
    "            print(\"Daily average >= 65ºC\")\n",
    "\n",
    "    if i >= 70:\n",
    "        hours += 1 \n",
    "    else:\n",
    "        hours = 0\n",
    "    clock += 1\n",
    "\n",
    "for i in list_hours:\n",
    "    print(\"hours\" ,i)\n",
    "\n"
   ]
  },
  {
   "cell_type": "markdown",
   "metadata": {},
   "source": [
    "#### 2. Check if the list you created in step 1 has more than 4 consecutive hours. "
   ]
  },
  {
   "cell_type": "code",
   "execution_count": 72,
   "metadata": {},
   "outputs": [
    {
     "name": "stdout",
     "output_type": "stream",
     "text": [
      " Temperature >=80ºC  \n",
      "More than 4h overheating\n",
      " Temperature >=80ºC  \n",
      " Temperature >=80ºC  \n"
     ]
    }
   ],
   "source": [
    "\n",
    "hours=0\n",
    "for i in list_temp_corrected:\n",
    "\n",
    "    if hours >= 4 or i >80 or average_24h > 65:\n",
    "        if hours >= 4:\n",
    "            if last_print != 1:  \n",
    "                \n",
    "                print(\"More than 4h overheating\")                \n",
    "            last_print = 1\n",
    "            consecutive_hours = consecutive_hours + 1\n",
    "        if i > 80:            \n",
    "        \n",
    "            print(\" Temperature >=80ºC  \")\n",
    "            \n",
    "        if average_24h > 65:\n",
    "            \n",
    "            print(\"Daily average >= 65ºC\")\n",
    "\n",
    "    if i >= 70:\n",
    "        hours += 1 \n",
    "    else:\n",
    "        hours = 0\n",
    "    clock += 1\n",
    "\n",
    "for i in list_hours:\n",
    "    print(\"hours\" ,i)\n",
    "\n"
   ]
  },
  {
   "cell_type": "markdown",
   "metadata": {},
   "source": [
    "#### 3. Make the decision!\n",
    "To make your decision, check if any of the three conditions is met. Print a message to show if the cooling system needs to be changed or not."
   ]
  },
  {
   "cell_type": "code",
   "execution_count": 73,
   "metadata": {},
   "outputs": [],
   "source": [
    "# See the above answer and below also \n",
    "# I am trying to answer the question above all "
   ]
  },
  {
   "cell_type": "markdown",
   "metadata": {},
   "source": [
    "#### 4. Find the average value of the temperature lists (ºC and ºF). What is the relation between both average values?"
   ]
  },
  {
   "cell_type": "code",
   "execution_count": 74,
   "metadata": {},
   "outputs": [
    {
     "name": "stdout",
     "output_type": "stream",
     "text": [
      "Average for Celcius 63.0\n",
      "Average for Farenheit:  145.4\n"
     ]
    }
   ],
   "source": [
    "import math\n",
    "average_24h_corrected_F = sum(list_Fahrenheit) / len(list_Fahrenheit)\n",
    "\n",
    "temperature_C_array = []\n",
    "temperature_F_array = []\n",
    "\n",
    "for i in range(len(list_temp_corrected)):\n",
    "    temperature_C_array.append(math.pow(list_temp_corrected[i] - average_24h_corrected, 2))\n",
    "\n",
    "SD_temperatures_C = math.sqrt(sum(temperature_C_array)/len(list_temp_corrected))\n",
    "\n",
    "for i in range(len(list_Fahrenheit)):\n",
    "    temperature_F_array.append(math.pow(list_Fahrenheit[i] - average_24h_corrected_F, 2))\n",
    "\n",
    "SD_temperatures_F = math.sqrt(sum(temperature_F_array)/len(list_Fahrenheit))\n",
    "\n",
    "\n",
    "print(\"Average for Celcius\", round(average_24h_corrected,2))\n",
    "print(\"Average for Farenheit: \", round(average_24h_corrected_F,2))\n",
    "\n"
   ]
  },
  {
   "cell_type": "markdown",
   "metadata": {},
   "source": [
    "#### 5. Find the standard deviation of the temperature lists (ºC and ºF). What is the relation between both standard deviations?"
   ]
  },
  {
   "cell_type": "code",
   "execution_count": 65,
   "metadata": {},
   "outputs": [
    {
     "name": "stdout",
     "output_type": "stream",
     "text": [
      "The standard deviation for Celcius:  14.93\n",
      "The standard deviation for Farenheit::  26.87\n"
     ]
    }
   ],
   "source": [
    "\n",
    "\n",
    "print(\"The standard deviation for Celcius: \", round(SD_temperatures_C,2))\n",
    "print(\"The standard deviation for Farenheit:: \", round(SD_temperatures_F,2))\n"
   ]
  },
  {
   "cell_type": "code",
   "execution_count": null,
   "metadata": {},
   "outputs": [],
   "source": []
  }
 ],
 "metadata": {
  "kernelspec": {
   "display_name": "Python 3",
   "language": "python",
   "name": "python3"
  },
  "language_info": {
   "codemirror_mode": {
    "name": "ipython",
    "version": 3
   },
   "file_extension": ".py",
   "mimetype": "text/x-python",
   "name": "python",
   "nbconvert_exporter": "python",
   "pygments_lexer": "ipython3",
   "version": "3.7.6"
  }
 },
 "nbformat": 4,
 "nbformat_minor": 2
}
